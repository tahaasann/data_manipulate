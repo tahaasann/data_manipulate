{
 "cells": [
  {
   "cell_type": "code",
   "execution_count": 1,
   "id": "dd80d9d9-dbb4-4047-81f4-1308012234dd",
   "metadata": {},
   "outputs": [],
   "source": [
    "import pandas as pd\n",
    "import numpy as np\n",
    "import matplotlib.pyplot as plt\n",
    "import seaborn as sns"
   ]
  },
  {
   "cell_type": "code",
   "execution_count": 3,
   "id": "1ff3806f-2a72-41a6-b3fb-1d2b7f832067",
   "metadata": {},
   "outputs": [],
   "source": [
    "df = pd.read_csv('Air_Conditioners.csv')"
   ]
  },
  {
   "cell_type": "code",
   "execution_count": 7,
   "id": "79c2676d-9183-493c-8714-c578994a80db",
   "metadata": {},
   "outputs": [
    {
     "name": "stdout",
     "output_type": "stream",
     "text": [
      "                                                name main_category  \\\n",
      "0  Lloyd 1.5 Ton 3 Star Inverter Split Ac (5 In 1...    appliances   \n",
      "1  LG 1.5 Ton 5 Star AI DUAL Inverter Split AC (C...    appliances   \n",
      "2  LG 1 Ton 4 Star Ai Dual Inverter Split Ac (Cop...    appliances   \n",
      "3  LG 1.5 Ton 3 Star AI DUAL Inverter Split AC (C...    appliances   \n",
      "4  Carrier 1.5 Ton 3 Star Inverter Split AC (Copp...    appliances   \n",
      "\n",
      "       sub_category                                              image  \\\n",
      "0  Air Conditioners  https://m.media-amazon.com/images/I/31UISB90sY...   \n",
      "1  Air Conditioners  https://m.media-amazon.com/images/I/51JFb7FctD...   \n",
      "2  Air Conditioners  https://m.media-amazon.com/images/I/51JFb7FctD...   \n",
      "3  Air Conditioners  https://m.media-amazon.com/images/I/51JFb7FctD...   \n",
      "4  Air Conditioners  https://m.media-amazon.com/images/I/41lrtqXPiW...   \n",
      "\n",
      "                                                link ratings no_of_ratings  \\\n",
      "0  https://www.amazon.in/Lloyd-Inverter-Convertib...     4.2         2,255   \n",
      "1  https://www.amazon.in/LG-Convertible-Anti-Viru...     4.2         2,948   \n",
      "2  https://www.amazon.in/LG-Inverter-Convertible-...     4.2         1,206   \n",
      "3  https://www.amazon.in/LG-Convertible-Anti-Viru...     4.0            69   \n",
      "4  https://www.amazon.in/Carrier-Inverter-Split-C...     4.1           630   \n",
      "\n",
      "  discount_price actual_price  \n",
      "0        ₹32,999      ₹58,990  \n",
      "1        ₹46,490      ₹75,990  \n",
      "2        ₹34,490      ₹61,990  \n",
      "3        ₹37,990      ₹68,990  \n",
      "4        ₹34,490      ₹67,790  \n",
      "<class 'pandas.core.frame.DataFrame'>\n",
      "RangeIndex: 720 entries, 0 to 719\n",
      "Data columns (total 9 columns):\n",
      " #   Column          Non-Null Count  Dtype \n",
      "---  ------          --------------  ----- \n",
      " 0   name            720 non-null    object\n",
      " 1   main_category   720 non-null    object\n",
      " 2   sub_category    720 non-null    object\n",
      " 3   image           720 non-null    object\n",
      " 4   link            720 non-null    object\n",
      " 5   ratings         433 non-null    object\n",
      " 6   no_of_ratings   433 non-null    object\n",
      " 7   discount_price  457 non-null    object\n",
      " 8   actual_price    500 non-null    object\n",
      "dtypes: object(9)\n",
      "memory usage: 50.8+ KB\n",
      "None\n",
      "                                                     name main_category  \\\n",
      "count                                                 720           720   \n",
      "unique                                                708             1   \n",
      "top     Samsung 1.5 Ton 3 Star Wind-Free Technology In...    appliances   \n",
      "freq                                                    3           720   \n",
      "\n",
      "            sub_category                                              image  \\\n",
      "count                720                                                720   \n",
      "unique                 1                                                635   \n",
      "top     Air Conditioners  https://m.media-amazon.com/images/I/51JFb7FctD...   \n",
      "freq                 720                                                  6   \n",
      "\n",
      "                                                     link ratings  \\\n",
      "count                                                 720     433   \n",
      "unique                                                720      31   \n",
      "top     https://www.amazon.in/Lloyd-Inverter-Convertib...     4.0   \n",
      "freq                                                    1      56   \n",
      "\n",
      "       no_of_ratings discount_price actual_price  \n",
      "count            433            457          500  \n",
      "unique           187            295          296  \n",
      "top                1        ₹39,990      ₹59,990  \n",
      "freq              45             11           15  \n"
     ]
    }
   ],
   "source": [
    "print(df.head())\n",
    "print(df.info())\n",
    "print(df.describe())"
   ]
  },
  {
   "cell_type": "code",
   "execution_count": 9,
   "id": "f6e926b6-decd-4e01-a59e-6c62bb1542ce",
   "metadata": {},
   "outputs": [
    {
     "name": "stdout",
     "output_type": "stream",
     "text": [
      "name                0\n",
      "main_category       0\n",
      "sub_category        0\n",
      "image               0\n",
      "link                0\n",
      "ratings           287\n",
      "no_of_ratings     287\n",
      "discount_price    263\n",
      "actual_price      220\n",
      "dtype: int64\n"
     ]
    }
   ],
   "source": [
    "print(df.isnull().sum())"
   ]
  },
  {
   "cell_type": "code",
   "execution_count": 11,
   "id": "d29f6e05-d0f0-42df-b83d-f3a22f28493a",
   "metadata": {},
   "outputs": [],
   "source": [
    "# Fiyat sütunlarındaki '₹' sembolünü kaldırma ve sayısal tipe dönüştürme\n",
    "df['discount_price'] = df['discount_price'].replace({'₹': '', ',': ''}, regex=True).astype(float)\n",
    "df['actual_price'] = df['actual_price'].replace({'₹': '', ',': ''}, regex=True).astype(float)"
   ]
  },
  {
   "cell_type": "code",
   "execution_count": 18,
   "id": "b223962f-48e0-4b41-9485-ccbe8c4c37bc",
   "metadata": {},
   "outputs": [
    {
     "name": "stdout",
     "output_type": "stream",
     "text": [
      "['2,255' '2,948' '1,206' '69' '630' '1,666' '1,097' '1,494' '674' '801'\n",
      " '558' '730' '5,073' '568' '3,670' '312' '88' '432' '268' '2' '700' '540'\n",
      " '258' '2,178' nan '1,444' '360' '38' '1,208' '341' '3' '15' '925' '3,604'\n",
      " '42' '22' '94' '1,866' '292' '1,830' '8' '536' '201' '2,722' '202' '23'\n",
      " '1,195' '5' '66' '474' '502' '686' '1,183' '56' '1' '49' '212' '79' '468'\n",
      " '317' '45' '142' '451' '145' '265' '3,157' '274' '39' '178' '655' '81'\n",
      " '43' '234' '134' '97' '229' '12' '748' '926' '62' '14' '440' '85' '260'\n",
      " '118' '172' '387' '195' '7' '158' '9' '10' '1,295' '16' '303' '120' '55'\n",
      " '27' '34' '37' '1,573' '29' '6' '112' '200' '11' '121' '886' '209' '4'\n",
      " '207' '622' '31' '192' '40' '101' '96' '70' '259' '1,400' '288' '13' '51'\n",
      " '175' '114' '567' '187' '21' '1,832' '563' '24' '769' '542' '297' '329'\n",
      " '20' '156' '26' '485' '9,577' '302' '255' '1,420' '169' '3,562' '224'\n",
      " '25' '449' '218' '913' '373' '776' '60' '54' '19' '74' '17' '213' '430'\n",
      " '591' '247' '41' '222' '71' '290' '65' '18' '32' '130' '416' '64' '119'\n",
      " '59' '68' '36' '164' '77' '47' '98' 'Only 2 left in stock.'\n",
      " 'Only 1 left in stock.' '581' '398' '774' '232' '44' '50' '296']\n"
     ]
    }
   ],
   "source": [
    "# 'no_of_ratings' sütunundaki benzersiz değerleri kontrol etme\n",
    "unique_values = df['no_of_ratings'].unique()\n",
    "print(unique_values)\n"
   ]
  },
  {
   "cell_type": "code",
   "execution_count": 20,
   "id": "5b809ae9-48a0-4659-bbf6-33e5c32902d8",
   "metadata": {},
   "outputs": [
    {
     "name": "stdout",
     "output_type": "stream",
     "text": [
      "                                                  name main_category  \\\n",
      "24   Lloyd 1.5 Ton 3 Star Fixed Speed Window Ac (Co...    appliances   \n",
      "50   Samsung 1 Ton 5 Star Inverter Split AC (Copper...    appliances   \n",
      "57   Haier 1.5 Ton 3 Star Frost Self Clean Inverter...    appliances   \n",
      "69   Lloyd 2.0 Ton 3 Star Inverter Split Ac (5 In 1...    appliances   \n",
      "73   Voltas 1.5 Ton 3 Star, Fixed Speed Window AC (...    appliances   \n",
      "..                                                 ...           ...   \n",
      "713  Portable Air Conditioner, 6-IN-1 Evaporative P...    appliances   \n",
      "714  Efast Portable Air Conditioner, Cordless Perso...    appliances   \n",
      "715  Personal Air Conditioners Portable AC Mini Air...    appliances   \n",
      "716  Air Conditioner Fan Personal Desk Fan Space Ai...    appliances   \n",
      "717  Portable Air Conditioners, Personal Air Condit...    appliances   \n",
      "\n",
      "         sub_category                                              image  \\\n",
      "24   Air Conditioners  https://m.media-amazon.com/images/I/81qXJbtSA6...   \n",
      "50   Air Conditioners  https://m.media-amazon.com/images/I/51nHL0am-T...   \n",
      "57   Air Conditioners  https://m.media-amazon.com/images/I/51WirkzK4J...   \n",
      "69   Air Conditioners  https://m.media-amazon.com/images/I/3194HYuCKM...   \n",
      "73   Air Conditioners  https://m.media-amazon.com/images/I/61hrzDc3aT...   \n",
      "..                ...                                                ...   \n",
      "713  Air Conditioners  https://m.media-amazon.com/images/I/71QJHNuthD...   \n",
      "714  Air Conditioners  https://m.media-amazon.com/images/I/61zRUGiJc-...   \n",
      "715  Air Conditioners  https://m.media-amazon.com/images/I/71RkCzQZyd...   \n",
      "716  Air Conditioners  https://m.media-amazon.com/images/I/719ujjLfw7...   \n",
      "717  Air Conditioners  https://m.media-amazon.com/images/I/71l59r1G-J...   \n",
      "\n",
      "                                                  link  ratings no_of_ratings  \\\n",
      "24   https://www.amazon.in/Lloyd-Window-Copper-Silv...      NaN           NaN   \n",
      "50   https://www.amazon.in/Samsung-Inverter-Convert...      NaN           NaN   \n",
      "57   https://www.amazon.in/Haier-Inverter-Grooved-A...      NaN           NaN   \n",
      "69   https://www.amazon.in/Lloyd-Inverter-Convertib...      NaN           NaN   \n",
      "73   https://www.amazon.in/Voltas-Window-183-Vectra...      NaN           NaN   \n",
      "..                                                 ...      ...           ...   \n",
      "713  https://www.amazon.in/Portable-Air-Conditioner...      NaN           NaN   \n",
      "714  https://www.amazon.in/Efast-Portable-Condition...      NaN           NaN   \n",
      "715  https://www.amazon.in/Personal-Conditioners-Po...      NaN           NaN   \n",
      "716  https://www.amazon.in/Conditioner-Personal-Eva...      NaN           NaN   \n",
      "717  https://www.amazon.in/Portable-Conditioners-Pe...      NaN           NaN   \n",
      "\n",
      "     discount_price  actual_price  no_of_Ratings  \n",
      "24          27440.0       47990.0            NaN  \n",
      "50          36999.0       57990.0            NaN  \n",
      "57          32990.0       64000.0            NaN  \n",
      "69          46000.0       77990.0            NaN  \n",
      "73          29990.0       42990.0            NaN  \n",
      "..              ...           ...            ...  \n",
      "713             NaN        6821.0            NaN  \n",
      "714             NaN        5224.0            NaN  \n",
      "715         10234.0       13999.0            NaN  \n",
      "716             NaN        9881.0            NaN  \n",
      "717             NaN        6361.0            NaN  \n",
      "\n",
      "[297 rows x 10 columns]\n"
     ]
    }
   ],
   "source": [
    "# Sadece sayısal değerleri koruyup diğerlerini NaN yapmak\n",
    "df['no_of_Ratings'] = pd.to_numeric(df['no_of_ratings'].str.replace(',', ''), errors='coerce')\n",
    "\n",
    "# Hangi satıların NaN olduğunu kontrol etme\n",
    "nan_ratings = df[df['no_of_Ratings'].isnull()]\n",
    "print(nan_ratings)"
   ]
  },
  {
   "cell_type": "code",
   "execution_count": 22,
   "id": "a9aab6cb-c1cb-4239-b5fd-3bf4ad4829f9",
   "metadata": {},
   "outputs": [
    {
     "ename": "TypeError",
     "evalue": "could not convert string to float: '2,255'",
     "output_type": "error",
     "traceback": [
      "\u001b[1;31m---------------------------------------------------------------------------\u001b[0m",
      "\u001b[1;31mValueError\u001b[0m                                Traceback (most recent call last)",
      "File \u001b[1;32m~\\anaconda3\\Lib\\site-packages\\pandas\\core\\nanops.py:785\u001b[0m, in \u001b[0;36mnanmedian\u001b[1;34m(values, axis, skipna, mask)\u001b[0m\n\u001b[0;32m    784\u001b[0m \u001b[38;5;28;01mtry\u001b[39;00m:\n\u001b[1;32m--> 785\u001b[0m     values \u001b[38;5;241m=\u001b[39m values\u001b[38;5;241m.\u001b[39mastype(\u001b[38;5;124m\"\u001b[39m\u001b[38;5;124mf8\u001b[39m\u001b[38;5;124m\"\u001b[39m)\n\u001b[0;32m    786\u001b[0m \u001b[38;5;28;01mexcept\u001b[39;00m \u001b[38;5;167;01mValueError\u001b[39;00m \u001b[38;5;28;01mas\u001b[39;00m err:\n\u001b[0;32m    787\u001b[0m     \u001b[38;5;66;03m# e.g. \"could not convert string to float: 'a'\"\u001b[39;00m\n",
      "\u001b[1;31mValueError\u001b[0m: could not convert string to float: '2,255'",
      "\nThe above exception was the direct cause of the following exception:\n",
      "\u001b[1;31mTypeError\u001b[0m                                 Traceback (most recent call last)",
      "Cell \u001b[1;32mIn[22], line 2\u001b[0m\n\u001b[0;32m      1\u001b[0m \u001b[38;5;66;03m# 'no_of_ratings' sütunundaki NaN değerlerini medyan ile doldurma\u001b[39;00m\n\u001b[1;32m----> 2\u001b[0m median_ratings \u001b[38;5;241m=\u001b[39m df[\u001b[38;5;124m'\u001b[39m\u001b[38;5;124mno_of_ratings\u001b[39m\u001b[38;5;124m'\u001b[39m]\u001b[38;5;241m.\u001b[39mmedian()\n\u001b[0;32m      3\u001b[0m df[\u001b[38;5;124m'\u001b[39m\u001b[38;5;124mno_of_ratings\u001b[39m\u001b[38;5;124m'\u001b[39m]\u001b[38;5;241m.\u001b[39mfillna(median_ratings, inplace\u001b[38;5;241m=\u001b[39m\u001b[38;5;28;01mTrue\u001b[39;00m)\n",
      "File \u001b[1;32m~\\anaconda3\\Lib\\site-packages\\pandas\\core\\series.py:6235\u001b[0m, in \u001b[0;36mSeries.median\u001b[1;34m(self, axis, skipna, numeric_only, **kwargs)\u001b[0m\n\u001b[0;32m   6227\u001b[0m \u001b[38;5;129m@doc\u001b[39m(make_doc(\u001b[38;5;124m\"\u001b[39m\u001b[38;5;124mmedian\u001b[39m\u001b[38;5;124m\"\u001b[39m, ndim\u001b[38;5;241m=\u001b[39m\u001b[38;5;241m1\u001b[39m))\n\u001b[0;32m   6228\u001b[0m \u001b[38;5;28;01mdef\u001b[39;00m \u001b[38;5;21mmedian\u001b[39m(\n\u001b[0;32m   6229\u001b[0m     \u001b[38;5;28mself\u001b[39m,\n\u001b[1;32m   (...)\u001b[0m\n\u001b[0;32m   6233\u001b[0m     \u001b[38;5;241m*\u001b[39m\u001b[38;5;241m*\u001b[39mkwargs,\n\u001b[0;32m   6234\u001b[0m ):\n\u001b[1;32m-> 6235\u001b[0m     \u001b[38;5;28;01mreturn\u001b[39;00m NDFrame\u001b[38;5;241m.\u001b[39mmedian(\u001b[38;5;28mself\u001b[39m, axis, skipna, numeric_only, \u001b[38;5;241m*\u001b[39m\u001b[38;5;241m*\u001b[39mkwargs)\n",
      "File \u001b[1;32m~\\anaconda3\\Lib\\site-packages\\pandas\\core\\generic.py:12003\u001b[0m, in \u001b[0;36mNDFrame.median\u001b[1;34m(self, axis, skipna, numeric_only, **kwargs)\u001b[0m\n\u001b[0;32m  11996\u001b[0m \u001b[38;5;28;01mdef\u001b[39;00m \u001b[38;5;21mmedian\u001b[39m(\n\u001b[0;32m  11997\u001b[0m     \u001b[38;5;28mself\u001b[39m,\n\u001b[0;32m  11998\u001b[0m     axis: Axis \u001b[38;5;241m|\u001b[39m \u001b[38;5;28;01mNone\u001b[39;00m \u001b[38;5;241m=\u001b[39m \u001b[38;5;241m0\u001b[39m,\n\u001b[1;32m   (...)\u001b[0m\n\u001b[0;32m  12001\u001b[0m     \u001b[38;5;241m*\u001b[39m\u001b[38;5;241m*\u001b[39mkwargs,\n\u001b[0;32m  12002\u001b[0m ) \u001b[38;5;241m-\u001b[39m\u001b[38;5;241m>\u001b[39m Series \u001b[38;5;241m|\u001b[39m \u001b[38;5;28mfloat\u001b[39m:\n\u001b[1;32m> 12003\u001b[0m     \u001b[38;5;28;01mreturn\u001b[39;00m \u001b[38;5;28mself\u001b[39m\u001b[38;5;241m.\u001b[39m_stat_function(\n\u001b[0;32m  12004\u001b[0m         \u001b[38;5;124m\"\u001b[39m\u001b[38;5;124mmedian\u001b[39m\u001b[38;5;124m\"\u001b[39m, nanops\u001b[38;5;241m.\u001b[39mnanmedian, axis, skipna, numeric_only, \u001b[38;5;241m*\u001b[39m\u001b[38;5;241m*\u001b[39mkwargs\n\u001b[0;32m  12005\u001b[0m     )\n",
      "File \u001b[1;32m~\\anaconda3\\Lib\\site-packages\\pandas\\core\\generic.py:11949\u001b[0m, in \u001b[0;36mNDFrame._stat_function\u001b[1;34m(self, name, func, axis, skipna, numeric_only, **kwargs)\u001b[0m\n\u001b[0;32m  11945\u001b[0m nv\u001b[38;5;241m.\u001b[39mvalidate_func(name, (), kwargs)\n\u001b[0;32m  11947\u001b[0m validate_bool_kwarg(skipna, \u001b[38;5;124m\"\u001b[39m\u001b[38;5;124mskipna\u001b[39m\u001b[38;5;124m\"\u001b[39m, none_allowed\u001b[38;5;241m=\u001b[39m\u001b[38;5;28;01mFalse\u001b[39;00m)\n\u001b[1;32m> 11949\u001b[0m \u001b[38;5;28;01mreturn\u001b[39;00m \u001b[38;5;28mself\u001b[39m\u001b[38;5;241m.\u001b[39m_reduce(\n\u001b[0;32m  11950\u001b[0m     func, name\u001b[38;5;241m=\u001b[39mname, axis\u001b[38;5;241m=\u001b[39maxis, skipna\u001b[38;5;241m=\u001b[39mskipna, numeric_only\u001b[38;5;241m=\u001b[39mnumeric_only\n\u001b[0;32m  11951\u001b[0m )\n",
      "File \u001b[1;32m~\\anaconda3\\Lib\\site-packages\\pandas\\core\\series.py:6133\u001b[0m, in \u001b[0;36mSeries._reduce\u001b[1;34m(self, op, name, axis, skipna, numeric_only, filter_type, **kwds)\u001b[0m\n\u001b[0;32m   6128\u001b[0m     \u001b[38;5;66;03m# GH#47500 - change to TypeError to match other methods\u001b[39;00m\n\u001b[0;32m   6129\u001b[0m     \u001b[38;5;28;01mraise\u001b[39;00m \u001b[38;5;167;01mTypeError\u001b[39;00m(\n\u001b[0;32m   6130\u001b[0m         \u001b[38;5;124mf\u001b[39m\u001b[38;5;124m\"\u001b[39m\u001b[38;5;124mSeries.\u001b[39m\u001b[38;5;132;01m{\u001b[39;00mname\u001b[38;5;132;01m}\u001b[39;00m\u001b[38;5;124m does not allow \u001b[39m\u001b[38;5;132;01m{\u001b[39;00mkwd_name\u001b[38;5;132;01m}\u001b[39;00m\u001b[38;5;124m=\u001b[39m\u001b[38;5;132;01m{\u001b[39;00mnumeric_only\u001b[38;5;132;01m}\u001b[39;00m\u001b[38;5;124m \u001b[39m\u001b[38;5;124m\"\u001b[39m\n\u001b[0;32m   6131\u001b[0m         \u001b[38;5;124m\"\u001b[39m\u001b[38;5;124mwith non-numeric dtypes.\u001b[39m\u001b[38;5;124m\"\u001b[39m\n\u001b[0;32m   6132\u001b[0m     )\n\u001b[1;32m-> 6133\u001b[0m \u001b[38;5;28;01mreturn\u001b[39;00m op(delegate, skipna\u001b[38;5;241m=\u001b[39mskipna, \u001b[38;5;241m*\u001b[39m\u001b[38;5;241m*\u001b[39mkwds)\n",
      "File \u001b[1;32m~\\anaconda3\\Lib\\site-packages\\pandas\\core\\nanops.py:147\u001b[0m, in \u001b[0;36mbottleneck_switch.__call__.<locals>.f\u001b[1;34m(values, axis, skipna, **kwds)\u001b[0m\n\u001b[0;32m    145\u001b[0m         result \u001b[38;5;241m=\u001b[39m alt(values, axis\u001b[38;5;241m=\u001b[39maxis, skipna\u001b[38;5;241m=\u001b[39mskipna, \u001b[38;5;241m*\u001b[39m\u001b[38;5;241m*\u001b[39mkwds)\n\u001b[0;32m    146\u001b[0m \u001b[38;5;28;01melse\u001b[39;00m:\n\u001b[1;32m--> 147\u001b[0m     result \u001b[38;5;241m=\u001b[39m alt(values, axis\u001b[38;5;241m=\u001b[39maxis, skipna\u001b[38;5;241m=\u001b[39mskipna, \u001b[38;5;241m*\u001b[39m\u001b[38;5;241m*\u001b[39mkwds)\n\u001b[0;32m    149\u001b[0m \u001b[38;5;28;01mreturn\u001b[39;00m result\n",
      "File \u001b[1;32m~\\anaconda3\\Lib\\site-packages\\pandas\\core\\nanops.py:788\u001b[0m, in \u001b[0;36mnanmedian\u001b[1;34m(values, axis, skipna, mask)\u001b[0m\n\u001b[0;32m    785\u001b[0m         values \u001b[38;5;241m=\u001b[39m values\u001b[38;5;241m.\u001b[39mastype(\u001b[38;5;124m\"\u001b[39m\u001b[38;5;124mf8\u001b[39m\u001b[38;5;124m\"\u001b[39m)\n\u001b[0;32m    786\u001b[0m     \u001b[38;5;28;01mexcept\u001b[39;00m \u001b[38;5;167;01mValueError\u001b[39;00m \u001b[38;5;28;01mas\u001b[39;00m err:\n\u001b[0;32m    787\u001b[0m         \u001b[38;5;66;03m# e.g. \"could not convert string to float: 'a'\"\u001b[39;00m\n\u001b[1;32m--> 788\u001b[0m         \u001b[38;5;28;01mraise\u001b[39;00m \u001b[38;5;167;01mTypeError\u001b[39;00m(\u001b[38;5;28mstr\u001b[39m(err)) \u001b[38;5;28;01mfrom\u001b[39;00m \u001b[38;5;21;01merr\u001b[39;00m\n\u001b[0;32m    789\u001b[0m \u001b[38;5;28;01mif\u001b[39;00m mask \u001b[38;5;129;01mis\u001b[39;00m \u001b[38;5;129;01mnot\u001b[39;00m \u001b[38;5;28;01mNone\u001b[39;00m:\n\u001b[0;32m    790\u001b[0m     values[mask] \u001b[38;5;241m=\u001b[39m np\u001b[38;5;241m.\u001b[39mnan\n",
      "\u001b[1;31mTypeError\u001b[0m: could not convert string to float: '2,255'"
     ]
    }
   ],
   "source": [
    "# 'no_of_ratings' sütunundaki NaN değerlerini medyan ile doldurma\n",
    "median_ratings = df['no_of_ratings'].median()\n",
    "df['no_of_ratings'].fillna(median_ratings, inplace=True)"
   ]
  },
  {
   "cell_type": "code",
   "execution_count": null,
   "id": "5d3a4ec1-1a2b-40df-baf0-018e2e3d4597",
   "metadata": {},
   "outputs": [],
   "source": []
  }
 ],
 "metadata": {
  "kernelspec": {
   "display_name": "Python 3 (ipykernel)",
   "language": "python",
   "name": "python3"
  },
  "language_info": {
   "codemirror_mode": {
    "name": "ipython",
    "version": 3
   },
   "file_extension": ".py",
   "mimetype": "text/x-python",
   "name": "python",
   "nbconvert_exporter": "python",
   "pygments_lexer": "ipython3",
   "version": "3.11.7"
  }
 },
 "nbformat": 4,
 "nbformat_minor": 5
}
